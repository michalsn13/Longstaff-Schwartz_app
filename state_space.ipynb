{
  "nbformat": 4,
  "nbformat_minor": 0,
  "metadata": {
    "colab": {
      "provenance": []
    },
    "kernelspec": {
      "name": "python3",
      "display_name": "Python 3"
    },
    "language_info": {
      "name": "python"
    }
  },
  "cells": [
    {
      "cell_type": "code",
      "execution_count": 1,
      "metadata": {
        "id": "ITBdK7AuQb1G"
      },
      "outputs": [],
      "source": [
        "#@markdown Importowanie bibliotek\n",
        "import numpy as np\n",
        "from scipy.stats import norm\n",
        "import matplotlib.pyplot as plt\n",
        "import scipy.optimize as opt\n",
        "import multiprocessing\n",
        "import scipy.integrate as integrate\n"
      ]
    },
    {
      "cell_type": "code",
      "source": [
        "np.random.seed(1)\n",
        "#ustawianie parametrów\n",
        "N = 10**6\n",
        "T = 1\n",
        "mu = 0.06\n",
        "r = 0.05\n",
        "sigma = 0.25\n",
        "s0 = 100\n",
        "K = 110\n",
        "disc = np.exp(-r *T)\n",
        "X0 = 100\n",
        "muX = 0.06\n",
        "sigmaX = 0.25\n",
        "rho = 0.9\n",
        "m = 0.001"
      ],
      "metadata": {
        "id": "qFvQiEMsyRyQ"
      },
      "execution_count": 2,
      "outputs": []
    },
    {
      "cell_type": "code",
      "execution_count": 3,
      "metadata": {
        "id": "zoAgGd3yXqOw"
      },
      "outputs": [],
      "source": [
        "#@title Generowanie trajektorii aktywa\n",
        "\n",
        "nsteps = 250\n",
        "def gen_traj(n=nsteps, T= T, s0 = s0, mu = mu, sigma = sigma):\n",
        "  w = np.random.normal(loc=0,scale=1,size=n)*T**0.5/n**0.5\n",
        "  w = np.cumsum(w)\n",
        "  ts = np.arange(n)/n * T\n",
        "  doexpa = (mu- sigma**2/2)*ts + sigma*w \n",
        "  trajektoria = np.hstack([s0, s0 * np.exp(doexpa)])\n",
        "  return trajektoria\n",
        "\n",
        "\n",
        "n = 500000\n",
        "trajs = []\n",
        "for i in range(n):\n",
        "  trajs.append(gen_traj())\n",
        "trajs=np.array(trajs)\n",
        "  "
      ]
    },
    {
      "cell_type": "code",
      "source": [
        "#@title Robienie kraty, na poczatek co 1 na kazdym do 300\n",
        "A=np.arange(0,300)\n",
        "B=np.arange(0,300)\n",
        "for i in range(249):\n",
        "  A=np.vstack((A,B))\n",
        "A=np.transpose(A)\n",
        "A[0,1]\n"
      ],
      "metadata": {
        "colab": {
          "base_uri": "https://localhost:8080/"
        },
        "id": "PZSQrlJzdKyU",
        "outputId": "a6c1def3-2bc1-493a-e48c-76e945b41743"
      },
      "execution_count": 4,
      "outputs": [
        {
          "output_type": "execute_result",
          "data": {
            "text/plain": [
              "0"
            ]
          },
          "metadata": {},
          "execution_count": 4
        }
      ]
    },
    {
      "cell_type": "code",
      "source": [
        "#@title Wyznaczanie prawdopodobieństw\n",
        "probs = np.zeros((300,300))\n",
        "visits = np.zeros((300))\n",
        "trajs[trajs>299]=299\n",
        "int_trajs = np.rint(trajs)\n",
        "for i in range(249):\n",
        "  Ai = int_trajs[:,i]\n",
        "  Aii = int_trajs[:,i+1]\n",
        "  #print(i)\n",
        "  for j in range(len(Ai)):\n",
        "    visits[int(Ai[j])]+=1\n",
        "    probs[int(Ai[j]),int(Aii[j])]+=1\n",
        "#probs = np.divide(probs, visits, out=np.zeros_like(probs), where=visits!=0)\n",
        "  \n",
        "\n"
      ],
      "metadata": {
        "id": "JkvVPn7ofY8c"
      },
      "execution_count": 5,
      "outputs": []
    },
    {
      "cell_type": "code",
      "source": [
        "visits[100]"
      ],
      "metadata": {
        "colab": {
          "base_uri": "https://localhost:8080/"
        },
        "id": "TBnxBYtppVBa",
        "outputId": "bd95ab35-2e51-4f70-df71-ec5db0a4fea5"
      },
      "execution_count": 26,
      "outputs": [
        {
          "output_type": "execute_result",
          "data": {
            "text/plain": [
              "4279542.0"
            ]
          },
          "metadata": {},
          "execution_count": 26
        }
      ]
    },
    {
      "cell_type": "code",
      "source": [
        "#@title upewnianko ze dziala\n",
        "suma = []\n",
        "\n",
        "for i in range(300): \n",
        "  sw = 0\n",
        "  for j in range(300):\n",
        "    sw+=  probs[i,j]#/max(1,visits[i])\n",
        "  suma.append(sw)\n",
        "#suma\n",
        "#okej, chodzi o to ze niektorych malych wartosci nawet nie osiagamy wiec to sie dodaje do pelnej liczby wszedzie, poza pierwszymi ilomas tam rzeczami\n"
      ],
      "metadata": {
        "id": "X-Z1YIBVkhbW"
      },
      "execution_count": 42,
      "outputs": []
    },
    {
      "cell_type": "code",
      "source": [
        "#@title unormowanie pstwa\n",
        "for i in range(300): \n",
        "  for j in range(300):\n",
        "    probs[i,j]=  probs[i,j]/max(1,visits[i])\n",
        "  #suma.append(sw)"
      ],
      "metadata": {
        "id": "-mefyD1vFUfM"
      },
      "execution_count": 7,
      "outputs": []
    },
    {
      "cell_type": "code",
      "source": [
        "#@title Funkcja payoffu\n",
        "#tutaj later zrob jakies inne opcje\n"
      ],
      "metadata": {
        "id": "lVZ66PWkAnNz"
      },
      "execution_count": 32,
      "outputs": []
    },
    {
      "cell_type": "code",
      "source": [
        "#@title Funkcje na ceny klasycznych opcji  \n",
        "def d1(S, sigma, K, t, T, r):\n",
        "  return (np.log(S/K) + (r + sigma**2/2)*(T-t))/(sigma * np.sqrt(T-t))\n",
        "\n",
        "def d2(S, sigma, K, t, T, r):\n",
        "  return d1(S, sigma, K, t, T, r) - sigma * np.sqrt(T-t)\n",
        "\n",
        "def BS(s0, K, T, r, sigma, typ = 'call', t = 0):\n",
        "  call = s0 * norm.cdf(d1(s0, sigma, K, t, T, r)) - np.exp(-r*(T - t)) * K * norm.cdf(d2(s0, sigma, K, t, T, r))\n",
        "  if typ == 'call':\n",
        "    return call\n",
        "  elif typ == 'put':\n",
        "    return call - s0 + K * np.exp(-r*(T-t))\n",
        "\n",
        "def binary_price(St, K, T, r, sigma, typ = 'call', t = 0):\n",
        "  if typ == 'call':\n",
        "    return np.exp(-r*(T-t)) * norm.cdf(d2(St, sigma, K, t, T, r))\n",
        "  else: \n",
        "    return np.exp(-r*(T-t)) * norm.cdf(- d2(St, sigma, K, t, T, r))\n",
        "\n",
        "#funcje na delty klasycznych opcji \n",
        "\n",
        "def delta(St, K, T, r, sigma, typ = 'call', t = 0): \n",
        "  if typ == 'call':\n",
        "    return norm.cdf(d1(St, sigma, K, t, T, r))\n",
        "  else:\n",
        "    return (norm.cdf(d1(St, sigma, K, t, T, r)) -1)\n",
        "\n",
        "def delta_binary(St, K, T, r, sigma, typ = 'call', t = 0):\n",
        "  db = np.exp(-r*(T-t) - d2(St, sigma, K, t, T, r)**2/2)/(St*sigma * np.sqrt((T-t) * 2 * np.pi))\n",
        "  if typ == 'call':\n",
        "    return db\n",
        "  else:\n",
        "    return -db\n",
        "\n",
        "\n",
        "def geom_brown(t, mu, sigma, w): # wzór na geometryczny ruch browna \n",
        "  return np.exp((mu - (sigma**2)/2)*t + sigma*w)\n",
        "print(BS(s0=100,K=110,T=1,r=r,sigma=sigma,typ=\"call\",t=0))\n",
        "print(BS(s0=100,K=110,T=1,r=r,sigma=sigma,typ=\"put\",t=0))"
      ],
      "metadata": {
        "colab": {
          "base_uri": "https://localhost:8080/"
        },
        "id": "gNzzipU7c_RT",
        "outputId": "3535bbbe-77cd-4391-aac5-8b52f1da2a45"
      },
      "execution_count": 8,
      "outputs": [
        {
          "output_type": "stream",
          "name": "stdout",
          "text": [
            "8.026384693853352\n",
            "12.661621388931891\n"
          ]
        }
      ]
    },
    {
      "cell_type": "code",
      "source": [],
      "metadata": {
        "id": "vFpcqdURBa-m"
      },
      "execution_count": null,
      "outputs": []
    },
    {
      "cell_type": "code",
      "source": [
        "#@title Wycena\n",
        "def SSP_call( K=110):\n",
        "  Grid = np.zeros((300,250))\n",
        "  values = np.arange(0,300)\n",
        "  Grid[:,-1] = (values-K)*(values-K>0)*np.exp(-r*T)\n",
        "  length = 250 #biore sobie jakas przykladowa zeby na niej moze pozniej pracowac\n",
        "  for t in np.arange(length-2,-1,-1):\n",
        "    for j in range(300):\n",
        "      payoff = (j-K)*(j-K>0)*np.exp(-r*t/length)\n",
        "      prob = probs[j,:]\n",
        "      V = prob*Grid[:,t+1]*np.exp(-r/length)\n",
        "      EV = sum(V)\n",
        "      Grid[j,t] = max(EV, payoff) \n",
        "  return Grid[100,0]\n",
        "SSP_call()\n"
      ],
      "metadata": {
        "colab": {
          "base_uri": "https://localhost:8080/"
        },
        "id": "waR1lm-5BlrT",
        "outputId": "df52ac01-5e4b-45bc-d8af-46d07adf9ca6"
      },
      "execution_count": 15,
      "outputs": [
        {
          "output_type": "execute_result",
          "data": {
            "text/plain": [
              "8.01723366273143"
            ]
          },
          "metadata": {},
          "execution_count": 15
        }
      ]
    },
    {
      "cell_type": "code",
      "source": [
        "def SSP_put( K=110):\n",
        "  Grid = np.zeros((300,250))\n",
        "  values = np.arange(0,300)\n",
        "  Grid[:,-1] = (K-values)*(K-values>0)*np.exp(-r*T)\n",
        "  length = 250 #biore sobie jakas przykladowa zeby na niej moze pozniej pracowac\n",
        "  for t in np.arange(length-2,-1,-1):\n",
        "    for j in range(300):\n",
        "      payoff = (K-j)*(K-j>0)*np.exp(-r*t/length)\n",
        "      prob = probs[j,:]\n",
        "      V = prob*Grid[:,t+1]*np.exp(-r/length)\n",
        "      EV = sum(V)\n",
        "      Grid[j,t] = max(EV, payoff) \n",
        "  return Grid[100,0]\n",
        "SSP_put()"
      ],
      "metadata": {
        "colab": {
          "base_uri": "https://localhost:8080/"
        },
        "id": "eQVaLHmwcrHP",
        "outputId": "02b63f21-e079-4a75-af98-05d870c419c2"
      },
      "execution_count": 14,
      "outputs": [
        {
          "output_type": "execute_result",
          "data": {
            "text/plain": [
              "13.48244246421544"
            ]
          },
          "metadata": {},
          "execution_count": 14
        }
      ]
    },
    {
      "cell_type": "code",
      "source": [
        "def SSP_put_barierowa( K=110,r=0.05,T=1):\n",
        "  Grid = np.zeros((300,250))\n",
        "  values = np.arange(0,300)\n",
        "  Grid[:,-1] = (K-values>0)*np.exp(-r*T)\n",
        "  length = 250 #biore sobie jakas przykladowa zeby na niej moze pozniej pracowac\n",
        "  for t in np.arange(length-2,-1,-1):\n",
        "    for j in range(300):\n",
        "      payoff = (K-j>0)*np.exp(-r*t/length)\n",
        "      prob = probs[j,:]\n",
        "      V = prob*Grid[:,t+1]*np.exp(-r/length)\n",
        "      EV = sum(V)\n",
        "      Grid[j,t] = max(EV, payoff) \n",
        "  return Grid[120,0]\n",
        "SSP_put_barierowa()"
      ],
      "metadata": {
        "colab": {
          "base_uri": "https://localhost:8080/"
        },
        "id": "jPTZ-H_-ohT1",
        "outputId": "d74046b9-d2f3-4979-d0fc-fcb289b32a60"
      },
      "execution_count": 18,
      "outputs": [
        {
          "output_type": "execute_result",
          "data": {
            "text/plain": [
              "0.6547283937210666"
            ]
          },
          "metadata": {},
          "execution_count": 18
        }
      ]
    },
    {
      "cell_type": "code",
      "source": [
        "def SSP_call_barierowa( K=110):\n",
        "  Grid = np.zeros((300,250))\n",
        "  values = np.arange(0,300)\n",
        "  Grid[:,-1] = (values-K>0)*np.exp(-r*T)\n",
        "  length = 250 #biore sobie jakas przykladowa zeby na niej moze pozniej pracowac\n",
        "  for t in np.arange(length-2,-1,-1):\n",
        "    for j in range(300):\n",
        "      payoff = (j-K>0)*np.exp(-r*t/length)\n",
        "      prob = probs[j,:]\n",
        "      V = prob*Grid[:,t+1]*np.exp(-r/length)\n",
        "      EV = sum(V)\n",
        "      Grid[j,t] = max(EV, payoff) \n",
        "  return Grid[100,0]\n",
        "SSP_call_barierowa()"
      ],
      "metadata": {
        "colab": {
          "base_uri": "https://localhost:8080/"
        },
        "id": "b5_m_TWPowOq",
        "outputId": "6e0ea586-628c-4583-96e5-70eaf548c332"
      },
      "execution_count": 16,
      "outputs": [
        {
          "output_type": "execute_result",
          "data": {
            "text/plain": [
              "0.6840295703327316"
            ]
          },
          "metadata": {},
          "execution_count": 16
        }
      ]
    },
    {
      "cell_type": "code",
      "source": [
        "length = 250\n",
        "np.arange(length-1,0,-1)"
      ],
      "metadata": {
        "colab": {
          "base_uri": "https://localhost:8080/"
        },
        "id": "1_fOQ8GcGzf5",
        "outputId": "ff5e2abd-96fb-4829-b4d1-3d96ea4b5d13"
      },
      "execution_count": 46,
      "outputs": [
        {
          "output_type": "execute_result",
          "data": {
            "text/plain": [
              "array([249, 248, 247, 246, 245, 244, 243, 242, 241, 240, 239, 238, 237,\n",
              "       236, 235, 234, 233, 232, 231, 230, 229, 228, 227, 226, 225, 224,\n",
              "       223, 222, 221, 220, 219, 218, 217, 216, 215, 214, 213, 212, 211,\n",
              "       210, 209, 208, 207, 206, 205, 204, 203, 202, 201, 200, 199, 198,\n",
              "       197, 196, 195, 194, 193, 192, 191, 190, 189, 188, 187, 186, 185,\n",
              "       184, 183, 182, 181, 180, 179, 178, 177, 176, 175, 174, 173, 172,\n",
              "       171, 170, 169, 168, 167, 166, 165, 164, 163, 162, 161, 160, 159,\n",
              "       158, 157, 156, 155, 154, 153, 152, 151, 150, 149, 148, 147, 146,\n",
              "       145, 144, 143, 142, 141, 140, 139, 138, 137, 136, 135, 134, 133,\n",
              "       132, 131, 130, 129, 128, 127, 126, 125, 124, 123, 122, 121, 120,\n",
              "       119, 118, 117, 116, 115, 114, 113, 112, 111, 110, 109, 108, 107,\n",
              "       106, 105, 104, 103, 102, 101, 100,  99,  98,  97,  96,  95,  94,\n",
              "        93,  92,  91,  90,  89,  88,  87,  86,  85,  84,  83,  82,  81,\n",
              "        80,  79,  78,  77,  76,  75,  74,  73,  72,  71,  70,  69,  68,\n",
              "        67,  66,  65,  64,  63,  62,  61,  60,  59,  58,  57,  56,  55,\n",
              "        54,  53,  52,  51,  50,  49,  48,  47,  46,  45,  44,  43,  42,\n",
              "        41,  40,  39,  38,  37,  36,  35,  34,  33,  32,  31,  30,  29,\n",
              "        28,  27,  26,  25,  24,  23,  22,  21,  20,  19,  18,  17,  16,\n",
              "        15,  14,  13,  12,  11,  10,   9,   8,   7,   6,   5,   4,   3,\n",
              "         2,   1])"
            ]
          },
          "metadata": {},
          "execution_count": 46
        }
      ]
    },
    {
      "cell_type": "code",
      "source": [
        "A=np.arange(1,5)\n",
        "B=np.arange(3,7)\n",
        "A*B"
      ],
      "metadata": {
        "colab": {
          "base_uri": "https://localhost:8080/"
        },
        "id": "LBGc9qcbEXlA",
        "outputId": "898e1ddd-dcbf-4bfa-eeee-294e0284d99e"
      },
      "execution_count": 33,
      "outputs": [
        {
          "output_type": "execute_result",
          "data": {
            "text/plain": [
              "array([ 3,  8, 15, 24])"
            ]
          },
          "metadata": {},
          "execution_count": 33
        }
      ]
    }
  ]
}